{
 "cells": [
  {
   "cell_type": "code",
   "execution_count": 1,
   "id": "ee72cfd7",
   "metadata": {},
   "outputs": [],
   "source": [
    "#Analysis of the particle sizes from segmentation output\n",
    "#You should have an output file named Results.csv from FIJI/ImageJ segmentation. If you are using Google Colab to run this code, \n",
    "#you will need to upload the file manually to Google using the File menu to the left."
   ]
  },
  {
   "cell_type": "code",
   "execution_count": 2,
   "id": "12a03a77",
   "metadata": {},
   "outputs": [],
   "source": [
    "import pandas as pd\n",
    "import numpy as np\n",
    "import seaborn as sns"
   ]
  },
  {
   "cell_type": "code",
   "execution_count": 11,
   "id": "06264342",
   "metadata": {},
   "outputs": [],
   "source": [
    "#Write code below to read the Results.csv file as a pandas DataFrame and store it in the object named measurements. \n",
    "#Show the head of the DataFrame. "
   ]
  },
  {
   "cell_type": "code",
   "execution_count": 13,
   "id": "27f78fa6",
   "metadata": {},
   "outputs": [
    {
     "name": "stdout",
     "output_type": "stream",
     "text": [
      "      Area  Mean  Min  Max\n",
      "0  1   443   255  255  255\n",
      "1  2   290   255  255  255\n",
      "2  3   361   255  255  255\n",
      "3  4   466   255  255  255\n",
      "4  5   306   255  255  255\n"
     ]
    }
   ],
   "source": [
    "# Code to read Results and show head\n",
    "measurements = pd.read_csv('Results.csv')\n",
    "print(measurements.head())"
   ]
  },
  {
   "cell_type": "code",
   "execution_count": 15,
   "id": "23b7c4ac",
   "metadata": {},
   "outputs": [
    {
     "data": {
      "text/plain": [
       "<AxesSubplot:xlabel='Area', ylabel='Count'>"
      ]
     },
     "execution_count": 15,
     "metadata": {},
     "output_type": "execute_result"
    },
    {
     "data": {
      "image/png": "[encoded data removed]",
      "text/plain": [
       "<Figure size 432x288 with 1 Axes>"
      ]
     },
     "metadata": {
      "needs_background": "light"
     },
     "output_type": "display_data"
    }
   ],
   "source": [
    "# Code to plot a histogram of the Area\n",
    "sns.histplot(measurements['Area'])"
   ]
  },
  {
   "cell_type": "code",
   "execution_count": 6,
   "id": "fbbd0ca6",
   "metadata": {},
   "outputs": [],
   "source": [
    "#Calculate the mean and the standard deviation of the distribution and show them below. (HINT: pandas can do this easily)"
   ]
  },
  {
   "cell_type": "code",
   "execution_count": 17,
   "id": "bdecf583",
   "metadata": {},
   "outputs": [
    {
     "data": {
      "text/plain": [
       "340.3189837685251"
      ]
     },
     "execution_count": 17,
     "metadata": {},
     "output_type": "execute_result"
    }
   ],
   "source": [
    "# Calculate mean\n",
    "measurements['Area'].mean()"
   ]
  },
  {
   "cell_type": "code",
   "execution_count": 19,
   "id": "5a6a315f",
   "metadata": {},
   "outputs": [
    {
     "data": {
      "text/plain": [
       "71.32315760162327"
      ]
     },
     "execution_count": 19,
     "metadata": {},
     "output_type": "execute_result"
    }
   ],
   "source": [
    "# Calculate standard deviation\n",
    "measurements['Area'].std()"
   ]
  },
  {
   "cell_type": "code",
   "execution_count": null,
   "id": "648b0e92",
   "metadata": {},
   "outputs": [],
   "source": [
    "#Describe your interpretation of the distribution of the measurements of nuclear area below.\n",
    "#Based on what you see, would you choose different value ranges of particle sizes for counting? Explain why.\n",
    "\n",
    "#Based on the standard deviation being relatively high (~20% of our average area) it could be fair to say that there is a decent\n",
    "#amount of natural variation in cell size for our sample. If this wasn't what we were expecting to see, I would try to count \n",
    "#particles more stringently next time by creating a narrower threshold."
   ]
  }
 ],
 "metadata": {
  "kernelspec": {
   "display_name": "Python 3 (ipykernel)",
   "language": "python",
   "name": "python3"
  },
  "language_info": {
   "codemirror_mode": {
    "name": "ipython",
    "version": 3
   },
   "file_extension": ".py",
   "mimetype": "text/x-python",
   "name": "python",
   "nbconvert_exporter": "python",
   "pygments_lexer": "ipython3",
   "version": "3.9.12"
  }
 },
 "nbformat": 4,
 "nbformat_minor": 5
}
